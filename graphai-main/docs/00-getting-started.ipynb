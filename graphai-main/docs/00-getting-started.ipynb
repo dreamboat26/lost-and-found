{
 "cells": [
  {
   "cell_type": "code",
   "execution_count": 211,
   "metadata": {},
   "outputs": [],
   "source": [
    "import os\n",
    "from getpass import getpass\n",
    "\n",
    "os.environ[\"OPENAI_API_KEY\"] = os.getenv(\"OPENAI_API_KEY\") or getpass(\n",
    "    \"Enter OpenAI API Key: \"\n",
    ")"
   ]
  },
  {
   "cell_type": "code",
   "execution_count": 212,
   "metadata": {},
   "outputs": [],
   "source": [
    "from semantic_router.llms import OpenAILLM\n",
    "\n",
    "llm = OpenAILLM(name=\"gpt-4o-2024-08-06\")"
   ]
  },
  {
   "cell_type": "code",
   "execution_count": 213,
   "metadata": {},
   "outputs": [],
   "source": [
    "import random\n",
    "from graphai import router, node\n",
    "\n",
    "@node(start=True)\n",
    "async def node_a(param_a: str):\n",
    "    \"\"\"Descriptive string for the node.\n",
    "    \"\"\"\n",
    "    print(\"node_a\")\n",
    "    return {\"param_b\": \"Hello, World!\"}\n",
    "\n",
    "@node\n",
    "async def node_b(param_b: str):\n",
    "    \"\"\"Descriptive string for the node.\n",
    "    \"\"\"\n",
    "    print(\"node_b\")\n",
    "    new_str = param_b*2\n",
    "    return {\"param_c\": new_str}\n",
    "\n",
    "@router\n",
    "async def node_router(param_c: str):\n",
    "    # choose \"node_c\", \"node_d\" or \"node_e\" at random\n",
    "    print(\"node_router\")\n",
    "    return {\n",
    "        \"param\": \"ab | \",\n",
    "        \"choice\": random.choice([\"node_c\", \"node_d\", \"node_e\"])\n",
    "    }\n",
    "\n",
    "@node\n",
    "async def node_c(param: str):\n",
    "    print(\"node_c\")\n",
    "    return {\"param\": param+\"c\"}\n",
    "\n",
    "@node\n",
    "async def node_d(param: str):\n",
    "    print(\"node_d\")\n",
    "    return {\"param\": param+\"d\"}\n",
    "\n",
    "@node\n",
    "async def node_e(param: str):\n",
    "    print(\"node_e\")\n",
    "    return {\"param\": param+\"e\"}\n",
    "\n",
    "@node(end=True)\n",
    "async def node_end(param: str):\n",
    "    \"\"\"Descriptive string for the node.\n",
    "    \"\"\"\n",
    "    print(\"node_end\")\n",
    "    new_str = param*2\n",
    "    return {\"output\": new_str}"
   ]
  },
  {
   "cell_type": "code",
   "execution_count": 214,
   "metadata": {},
   "outputs": [],
   "source": [
    "from graphai import Graph\n",
    "\n",
    "graph = Graph()"
   ]
  },
  {
   "cell_type": "code",
   "execution_count": 215,
   "metadata": {},
   "outputs": [],
   "source": [
    "for node_fn in [node_a, node_b, node_c, node_d, node_e, node_end]:\n",
    "    graph.add_node(node_fn)\n",
    "\n",
    "# add the router\n",
    "graph.add_router(\n",
    "    sources=[node_b],\n",
    "    router=node_router,\n",
    "    destinations=[node_c, node_d, node_e]\n",
    ")\n",
    "\n",
    "# build the certain edges\n",
    "graph.add_edge(source=node_a, destination=node_b)\n",
    "# TODO it is kind of weird that I dn't explicitly define node_b to node_router edge\n",
    "graph.add_edge(source=node_c, destination=node_end)\n",
    "graph.add_edge(source=node_d, destination=node_end)\n",
    "graph.add_edge(source=node_e, destination=node_end)"
   ]
  },
  {
   "cell_type": "code",
   "execution_count": 216,
   "metadata": {},
   "outputs": [
    {
     "data": {
      "text/plain": [
       "(graphai.nodes.base._Node._node.<locals>.NodeClass,\n",
       " [graphai.nodes.base._Node._node.<locals>.NodeClass])"
      ]
     },
     "execution_count": 216,
     "metadata": {},
     "output_type": "execute_result"
    }
   ],
   "source": [
    "graph.start_node, graph.end_nodes"
   ]
  },
  {
   "cell_type": "code",
   "execution_count": 220,
   "metadata": {},
   "outputs": [
    {
     "name": "stderr",
     "output_type": "stream",
     "text": [
      "2024-12-09 14:28:27 - semantic_router.utils.logger - INFO - graph.py:148 - visualize() - The graph is acyclic. Visualization will use a topological layout.\n"
     ]
    },
    {
     "data": {
      "image/png": "[encoded data removed]",
      "text/plain": [
       "<Figure size 800x600 with 1 Axes>"
      ]
     },
     "metadata": {},
     "output_type": "display_data"
    }
   ],
   "source": [
    "graph.visualize()"
   ]
  },
  {
   "cell_type": "code",
   "execution_count": 217,
   "metadata": {},
   "outputs": [
    {
     "name": "stdout",
     "output_type": "stream",
     "text": [
      "node_a\n",
      "node_b\n",
      "node_router\n",
      "node_d\n"
     ]
    },
    {
     "data": {
      "text/plain": [
       "{'param_a': 'l',\n",
       " 'param_b': 'Hello, World!',\n",
       " 'param_c': 'Hello, World!Hello, World!',\n",
       " 'param': 'ab | d'}"
      ]
     },
     "execution_count": 217,
     "metadata": {},
     "output_type": "execute_result"
    }
   ],
   "source": [
    "await graph.execute(input={\"param_a\": \"l\"})"
   ]
  },
  {
   "cell_type": "code",
   "execution_count": 218,
   "metadata": {},
   "outputs": [
    {
     "data": {
      "text/plain": [
       "\"param_a: <class 'str'>\""
      ]
     },
     "execution_count": 218,
     "metadata": {},
     "output_type": "execute_result"
    }
   ],
   "source": [
    "node_a.get_signature()"
   ]
  },
  {
   "cell_type": "code",
   "execution_count": 219,
   "metadata": {},
   "outputs": [
    {
     "data": {
      "text/plain": [
       "<coroutine object _Node._node.<locals>.NodeClass.invoke at 0x000002159EB0EC40>"
      ]
     },
     "execution_count": 219,
     "metadata": {},
     "output_type": "execute_result"
    }
   ],
   "source": [
    "node_a.invoke(input={\"param_a\": \"l\"})"
   ]
  }
 ],
 "metadata": {
  "kernelspec": {
   "display_name": ".venv",
   "language": "python",
   "name": "python3"
  },
  "language_info": {
   "codemirror_mode": {
    "name": "ipython",
    "version": 3
   },
   "file_extension": ".py",
   "mimetype": "text/x-python",
   "name": "python",
   "nbconvert_exporter": "python",
   "pygments_lexer": "ipython3",
   "version": "3.12.7"
  }
 },
 "nbformat": 4,
 "nbformat_minor": 2
}
