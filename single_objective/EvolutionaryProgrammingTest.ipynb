{
 "cells": [
  {
   "cell_type": "markdown",
   "metadata": {},
   "source": [
    "-------------------------\n",
    "- Author: Farzad Roozitalab\n",
    "- Github: [Farzad-R](https://github.com/Farzad-R)\n",
    "- Test EvlutionaryProgramming Algorithm\n",
    "-------------------------"
   ]
  },
  {
   "cell_type": "code",
   "execution_count": 37,
   "metadata": {},
   "outputs": [],
   "source": [
    "from EvlutionaryProgramming import EvlutionaryProgramming\n",
    "from typing import List, Tuple\n",
    "import numpy as np\n",
    "import pandas as pd"
   ]
  },
  {
   "cell_type": "code",
   "execution_count": 39,
   "metadata": {},
   "outputs": [
    {
     "name": "stdout",
     "output_type": "stream",
     "text": [
      "Objective function coefficients: 1.0 , 7.0 , 11.600000000000001 , 6.999999999999999\n",
      "Number of parameters: 3\n",
      "Best obtained objective: [0.24932483]\n",
      "Best obtained solution: [0.82707871 2.91577273 1.39374511]\n",
      "The minimum eigen value: -1.12228058956163\n"
     ]
    },
    {
     "data": {
      "text/plain": [
       "<AxesSubplot:>"
      ]
     },
     "execution_count": 39,
     "metadata": {},
     "output_type": "execute_result"
    },
    {
     "data": {
      "image/png": "[encoded data removed]",
      "text/plain": [
       "<Figure size 720x288 with 1 Axes>"
      ]
     },
     "metadata": {
      "needs_background": "light"
     },
     "output_type": "display_data"
    }
   ],
   "source": [
    "# Parameters of DC motor\n",
    "Ra = 3  # ohm      (armature resistance)\n",
    "La = 0.5  # H        (armature inductance)\n",
    "k1 = 1\n",
    "k2 = 0.7  # Nm/A     Torque constant\n",
    "k3 = 0.8  # V.s/rad  back EMF\n",
    "Jeq = 0.2  # kg.m^2   Rotor inertia\n",
    "beq = 0.2  # Nm.s/rad Viscous-friction coeffecient)\n",
    "\n",
    "# PID Control + CE\n",
    "c1 = (La * Jeq) / (La * Jeq)\n",
    "c2 = (La * beq + Ra * Jeq) / (La * Jeq)\n",
    "c3 = (Ra * beq + k2 * k3) / (La * Jeq)\n",
    "c4 = (k1 * k2) / (La * Jeq)\n",
    "\n",
    "x_min = np.array([0.001, 0.001, 0.001])\n",
    "x_max = np.array([3,3,3])\n",
    "\n",
    "\n",
    "def exp_objective(k_list:List) -> Tuple[float, float]:\n",
    "    \"\"\"The PID controller needs three values: Kp, Ki, Kd\"\"\"\n",
    "    Eq_coeff = [\n",
    "        c1,\n",
    "        c2,\n",
    "        (c4 * k_list[0] + c3),\n",
    "        (c4 * k_list[1]),\n",
    "        (c4 * k_list[2]),\n",
    "    ]  # assigning the equation parameters\n",
    "    Rts = np.roots(Eq_coeff)  # Calculating the roots of the equation\n",
    "    obj = np.max(\n",
    "        np.real(Rts)\n",
    "    )  # getting the max value from the real part of the complex roots\n",
    "    fObj = np.exp(obj)\n",
    "    return fObj\n",
    "\n",
    "\n",
    "def objective(k_list:List) -> Tuple[float, float]:\n",
    "    Eq_coeff = [\n",
    "        c1,\n",
    "        c2,\n",
    "        (c4 * k_list[0] + c3),\n",
    "        (c4 * k_list[1]),\n",
    "        (c4 * k_list[2]),\n",
    "    ]  \n",
    "    Rts = np.roots(Eq_coeff) \n",
    "    obj = np.max(np.real(Rts))\n",
    "    return obj\n",
    "\n",
    "print(\"Objective function coefficients:\", c1, \",\", c2, \",\", c3, \",\", c4)\n",
    "print(\"Number of parameters:\", len(x_min))\n",
    "\n",
    "EP_test = EvlutionaryProgramming(\n",
    "    objective_function=exp_objective,\n",
    "    upperbound=x_max,\n",
    "    lowerbound=x_min,\n",
    "    population_size=30,\n",
    "    generation_size=100,\n",
    "    beta=0.1,\n",
    "    tournament_coeff=5\n",
    "    )\n",
    "df_obj, df_sol = EP_test.run_EP()\n",
    "print(\"Best obtained objective:\", df_obj.iloc[-1].values)\n",
    "print(\"Best obtained solution:\", df_sol.iloc[-1].values)\n",
    "print(\"The minimum eigen value:\", objective(df_sol.iloc[-1].values))\n",
    "df_obj[[\"obj_hist\"]].plot(figsize=[10,4])"
   ]
  },
  {
   "cell_type": "code",
   "execution_count": 40,
   "metadata": {},
   "outputs": [
    {
     "name": "stdout",
     "output_type": "stream",
     "text": [
      "-1.12228058956163\n"
     ]
    },
    {
     "data": {
      "text/plain": [
       "<AxesSubplot:>"
      ]
     },
     "execution_count": 40,
     "metadata": {},
     "output_type": "execute_result"
    },
    {
     "data": {
      "image/png": "[encoded data removed]",
      "text/plain": [
       "<Figure size 720x360 with 1 Axes>"
      ]
     },
     "metadata": {
      "needs_background": "light"
     },
     "output_type": "display_data"
    }
   ],
   "source": [
    "# import numpy as np\n",
    "eig = []\n",
    "for i in range(len(df_sol)):\n",
    "    eig.append(objective(np.array(df_sol.iloc[i])))\n",
    "\n",
    "eig = np.array(eig)\n",
    "print(eig[-1])\n",
    "pd.DataFrame(eig[np.argsort(eig)][::-1]).plot(figsize=(10,5))"
   ]
  }
 ],
 "metadata": {
  "kernelspec": {
   "display_name": "Python 3.10.4 64-bit",
   "language": "python",
   "name": "python3"
  },
  "language_info": {
   "codemirror_mode": {
    "name": "ipython",
    "version": 3
   },
   "file_extension": ".py",
   "mimetype": "text/x-python",
   "name": "python",
   "nbconvert_exporter": "python",
   "pygments_lexer": "ipython3",
   "version": "3.10.4"
  },
  "orig_nbformat": 4,
  "vscode": {
   "interpreter": {
    "hash": "b56823d3876598670abc3c928caf922b2cd543b5f48e0e8d37838563168168a5"
   }
  }
 },
 "nbformat": 4,
 "nbformat_minor": 2
}
