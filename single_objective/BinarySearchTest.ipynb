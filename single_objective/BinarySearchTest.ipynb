{
 "cells": [
  {
   "attachments": {},
   "cell_type": "markdown",
   "metadata": {},
   "source": [
    "-------------------------\n",
    "- Author: Farzad Roozitalab\n",
    "- Github: [Farzad-R](https://github.com/Farzad-R)\n",
    "-------------------------"
   ]
  },
  {
   "cell_type": "code",
   "execution_count": 1,
   "metadata": {},
   "outputs": [],
   "source": [
    "from BinarySearch import BinarySearch"
   ]
  },
  {
   "cell_type": "code",
   "execution_count": 8,
   "metadata": {},
   "outputs": [
    {
     "name": "stdout",
     "output_type": "stream",
     "text": [
      "Best generation: 25\n",
      "Best solution: [0. 0. 0. 1. 0. 1. 0.]\n",
      "Best objective: 0.0\n"
     ]
    }
   ],
   "source": [
    "def BS_objective(xp)->float:\n",
    "    y = xp[0]*(2**0) + xp[1]*(2**1) + xp[2]*(2**2) + xp[3]*(2**3) + xp[4]*(2**4) + xp[5]*(2**5) + xp[6]*(2**6)\n",
    "    return (y - 40)**2\n",
    "\n",
    "eps = 0.001\n",
    "# stop_condition = 0\n",
    "x_max = [1, 1, 1, 1, 1, 1, 1]\n",
    "x_min = [0, 0, 0, 0, 0, 0, 0]\n",
    "\n",
    "BS_test = BinarySearch(\n",
    "    upperbound=x_max,\n",
    "    lowerbound=x_min,\n",
    "    objective_function=BS_objective,\n",
    "    robust_trial=1,\n",
    "    epsilon=0.001,\n",
    "    population_size=50,\n",
    "    generation_size=2000)\n",
    "\n",
    "obj, best_solution = BS_test.run_BS()\n",
    "print(\"Best solution:\", best_solution)\n",
    "print(\"Best objective:\", obj)\n"
   ]
  }
 ],
 "metadata": {
  "kernelspec": {
   "display_name": "Python 3.10.4 64-bit",
   "language": "python",
   "name": "python3"
  },
  "language_info": {
   "codemirror_mode": {
    "name": "ipython",
    "version": 3
   },
   "file_extension": ".py",
   "mimetype": "text/x-python",
   "name": "python",
   "nbconvert_exporter": "python",
   "pygments_lexer": "ipython3",
   "version": "3.10.4 (tags/v3.10.4:9d38120, Mar 23 2022, 23:13:41) [MSC v.1929 64 bit (AMD64)]"
  },
  "orig_nbformat": 4,
  "vscode": {
   "interpreter": {
    "hash": "b56823d3876598670abc3c928caf922b2cd543b5f48e0e8d37838563168168a5"
   }
  }
 },
 "nbformat": 4,
 "nbformat_minor": 2
}
