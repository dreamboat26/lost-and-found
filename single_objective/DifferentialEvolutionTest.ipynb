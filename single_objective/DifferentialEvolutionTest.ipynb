{
 "cells": [
  {
   "attachments": {},
   "cell_type": "markdown",
   "metadata": {},
   "source": [
    "-------------------------\n",
    "- Author: Farzad Roozitalab\n",
    "- Github: [Farzad-R](https://github.com/Farzad-R)\n",
    "-------------------------"
   ]
  },
  {
   "cell_type": "code",
   "execution_count": 2,
   "metadata": {},
   "outputs": [],
   "source": [
    "from typing import List, Tuple\n",
    "import numpy as np\n",
    "import matplotlib.pyplot as plt\n",
    "from DifferentialEvolution import DifferentialEvolution"
   ]
  },
  {
   "cell_type": "code",
   "execution_count": 3,
   "metadata": {},
   "outputs": [
    {
     "name": "stdout",
     "output_type": "stream",
     "text": [
      "Objective function coefficients: 1.0 , 7.0 , 11.600000000000001 , 6.999999999999999\n",
      "Number of parameters: 3\n"
     ]
    }
   ],
   "source": [
    "# Parameters of DC motor\n",
    "Ra = 3  # ohm      (armature resistance)\n",
    "La = 0.5  # H        (armature inductance)\n",
    "k1 = 1\n",
    "k2 = 0.7  # Nm/A     Torque constant\n",
    "k3 = 0.8  # V.s/rad  back EMF\n",
    "Jeq = 0.2  # kg.m^2   Rotor inertia\n",
    "beq = 0.2  # Nm.s/rad Viscous-friction coeffecient)\n",
    "\n",
    "# PID Control + CE\n",
    "c1 = (La * Jeq) / (La * Jeq)\n",
    "c2 = (La * beq + Ra * Jeq) / (La * Jeq)\n",
    "\n",
    "c3 = (Ra * beq + k2 * k3) / (La * Jeq)\n",
    "c4 = (k1 * k2) / (La * Jeq)\n",
    "\n",
    "def objective(k_list:List) -> Tuple[float, float]:\n",
    "    Eq_coeff = [\n",
    "        c1,\n",
    "        c2,\n",
    "        (c4 * k_list[0] + c3),\n",
    "        (c4 * k_list[1]),\n",
    "        (c4 * k_list[2]),\n",
    "    ]  # assigning the equation parameters\n",
    "    Rts = np.roots(Eq_coeff)  # Calculating the roots of the equation\n",
    "    obj = np.max(\n",
    "        np.real(Rts)\n",
    "    )  # getting the max value from the real part of the complex roots\n",
    "    # fObj = np.exp(Eig_Max)\n",
    "    return obj\n",
    "\n",
    "x_min = np.array([0.001, 0.001, 0.001])\n",
    "x_max = np.array([3,3,3])\n",
    "\n",
    "print(\"Objective function coefficients:\", c1, \",\", c2, \",\", c3, \",\", c4)\n",
    "print(\"Number of parameters:\", len(x_min))"
   ]
  },
  {
   "cell_type": "code",
   "execution_count": 4,
   "metadata": {},
   "outputs": [
    {
     "name": "stdout",
     "output_type": "stream",
     "text": [
      "Best obtained objective: [-1.58682987]\n",
      "Best obtained solution: [0.94717663 2.99537886 1.28531336]\n"
     ]
    },
    {
     "data": {
      "text/plain": [
       "<AxesSubplot:>"
      ]
     },
     "execution_count": 4,
     "metadata": {},
     "output_type": "execute_result"
    },
    {
     "data": {
      "image/png": "[encoded data removed]",
      "text/plain": [
       "<Figure size 720x288 with 1 Axes>"
      ]
     },
     "metadata": {
      "needs_background": "light"
     },
     "output_type": "display_data"
    }
   ],
   "source": [
    "DE_test = DifferentialEvolution(\n",
    "    objective_function=objective,\n",
    "    upperbound=x_max,\n",
    "    lowerbound=x_min,\n",
    "    population_size=50,\n",
    "    generation_size=100,\n",
    "    mutation_factor=0.5,\n",
    "    crossover_rate=0.5\n",
    "    )\n",
    "df_obj, df_sol = DE_test.run_DE()\n",
    "print(\"Best obtained objective:\", df_obj.iloc[-1].values)\n",
    "print(\"Best obtained solution:\", df_sol.iloc[-1].values)\n",
    "df_obj[[\"obj_hist\"]].plot(figsize=[10,4])"
   ]
  },
  {
   "cell_type": "code",
   "execution_count": null,
   "metadata": {},
   "outputs": [],
   "source": []
  }
 ],
 "metadata": {
  "kernelspec": {
   "display_name": "Python 3",
   "language": "python",
   "name": "python3"
  },
  "language_info": {
   "codemirror_mode": {
    "name": "ipython",
    "version": 3
   },
   "file_extension": ".py",
   "mimetype": "text/x-python",
   "name": "python",
   "nbconvert_exporter": "python",
   "pygments_lexer": "ipython3",
   "version": "3.10.4"
  },
  "orig_nbformat": 4,
  "vscode": {
   "interpreter": {
    "hash": "b56823d3876598670abc3c928caf922b2cd543b5f48e0e8d37838563168168a5"
   }
  }
 },
 "nbformat": 4,
 "nbformat_minor": 2
}
