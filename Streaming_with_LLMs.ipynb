{
  "nbformat": 4,
  "nbformat_minor": 0,
  "metadata": {
    "colab": {
      "provenance": []
    },
    "kernelspec": {
      "name": "python3",
      "display_name": "Python 3"
    },
    "language_info": {
      "name": "python"
    }
  },
  "cells": [
    {
      "cell_type": "markdown",
      "source": [
        "# How to stream the generation from your LLM using LangChain\n",
        "\n",
        "To test the streaming feature of LLMs in LangChain, check out this notebook."
      ],
      "metadata": {
        "id": "A76vheUhpdRc"
      }
    },
    {
      "cell_type": "code",
      "execution_count": null,
      "metadata": {
        "id": "jD8K059JBbSJ"
      },
      "outputs": [],
      "source": [
        "! pip install langchain langchain-openai"
      ]
    },
    {
      "cell_type": "code",
      "source": [
        "import os\n",
        "os.environ['OPENAI_API_KEY'] = \"\""
      ],
      "metadata": {
        "id": "NoX2ankTMlk0"
      },
      "execution_count": null,
      "outputs": []
    },
    {
      "cell_type": "markdown",
      "source": [
        "## Invoke method\n",
        "\n",
        "Using the method `invoke()` will only return the completion once all of it has been generated."
      ],
      "metadata": {
        "id": "CdKmWCDLprBt"
      }
    },
    {
      "cell_type": "code",
      "source": [
        "from langchain_openai import ChatOpenAI\n",
        "\n",
        "model = ChatOpenAI()\n",
        "\n",
        "model.invoke(\"tell me a story\")"
      ],
      "metadata": {
        "colab": {
          "base_uri": "https://localhost:8080/"
        },
        "id": "HogFz_dWOfTC",
        "outputId": "bbb699ac-e102-49ad-f52d-22d6bf8ea482"
      },
      "execution_count": null,
      "outputs": [
        {
          "output_type": "execute_result",
          "data": {
            "text/plain": [
              "AIMessage(content='Once upon a time in a small village nestled in the mountains, there lived a young girl named Amelia. She was known throughout the village for her kind heart and adventurous spirit. One day, while exploring the forest near her home, Amelia stumbled upon a hidden cave.\\n\\nCuriosity getting the best of her, she ventured inside and discovered a crystal clear pool of water with a shimmering diamond resting at the bottom. Without hesitation, she reached down and plucked the diamond from the water, feeling a surge of energy course through her body.\\n\\nAs she held the diamond in her hand, a voice echoed through the cave, \"Amelia, you have been chosen to protect the magical creatures of the forest.\" Startled but determined, Amelia accepted the responsibility and vowed to use her newfound powers for good.\\n\\nFrom that day on, Amelia became known as the Guardian of the Forest, using her powers to heal injured animals, protect the forest from harm, and ensure the harmony between humans and nature. She became a legend in the village, with children coming from far and wide to hear stories of her bravery and compassion.\\n\\nAs the years passed, Amelia\\'s hair turned silver and her eyes sparkled with wisdom. But her spirit remained as strong as ever, always ready to defend the forest and its inhabitants. And so, the story of the Guardian of the Forest lived on, a reminder of the power of kindness, courage, and the magic that exists in the world around us.')"
            ]
          },
          "metadata": {},
          "execution_count": 20
        }
      ]
    },
    {
      "cell_type": "markdown",
      "source": [
        "## Stream method\n",
        "\n",
        "As you can see, `invoke()` returns the contents of the full completion. We want to get a `generator` and yield the tokens as they are generated. To get a generator, we use the method `stream()`."
      ],
      "metadata": {
        "id": "wKvvzezkpz0N"
      }
    },
    {
      "cell_type": "code",
      "source": [
        "print(model.invoke(\"tell me a story\"))"
      ],
      "metadata": {
        "colab": {
          "base_uri": "https://localhost:8080/"
        },
        "id": "iGH37k2WOu63",
        "outputId": "b46ae921-bf2b-4609-a1c5-193e22f34da3"
      },
      "execution_count": null,
      "outputs": [
        {
          "output_type": "stream",
          "name": "stdout",
          "text": [
            "content=\"Once upon a time in a small village, there lived a young girl named Lily. She was known for her kindness and generosity towards everyone she met. One day, while walking through the forest, she came across a wounded bird lying on the ground.\\n\\nFeeling sorry for the bird, Lily carefully picked it up and brought it back to her home. She nursed the bird back to health, feeding it and keeping it warm until it was strong enough to fly again.\\n\\nAs a token of gratitude, the bird taught Lily a magical song that could bring happiness and joy to anyone who heard it. Lily was overjoyed and decided to share the song with the villagers, spreading happiness throughout the village.\\n\\nWord of Lily's magical song spread far and wide, and people from neighboring villages came to listen to her sing. The village soon became a place of happiness and harmony, all thanks to Lily and the bird.\\n\\nFrom that day on, Lily and the bird became inseparable companions, traveling from village to village spreading happiness wherever they went. And so, the legend of Lily and the magical bird lived on for generations to come, a reminder of the power of kindness and the beauty of sharing joy with others.\"\n"
          ]
        }
      ]
    },
    {
      "cell_type": "code",
      "source": [
        "print(model.stream(\"tell me a story\"))"
      ],
      "metadata": {
        "colab": {
          "base_uri": "https://localhost:8080/"
        },
        "id": "N098RMJJO1mW",
        "outputId": "1590da0b-e06b-48fb-829e-6b908c6792c0"
      },
      "execution_count": null,
      "outputs": [
        {
          "output_type": "stream",
          "name": "stdout",
          "text": [
            "<generator object BaseChatModel.stream at 0x7a994c6d0d60>\n"
          ]
        }
      ]
    },
    {
      "cell_type": "markdown",
      "source": [
        "We will need to iterate through the yielded streams chunks."
      ],
      "metadata": {
        "id": "HTn89e3KqOQ9"
      }
    },
    {
      "cell_type": "code",
      "source": [
        "chunks = []\n",
        "async for chunk in model.astream(\"hello. tell me what is the difference between kubernetes and docker\"):\n",
        "    chunks.append(chunk)\n",
        "    print(chunk.content, end=\"|\", flush=True)"
      ],
      "metadata": {
        "colab": {
          "base_uri": "https://localhost:8080/"
        },
        "id": "15rViIbsO_H6",
        "outputId": "28e277ae-9881-4f59-ab8e-4f18f1ef6ae9"
      },
      "execution_count": null,
      "outputs": [
        {
          "output_type": "stream",
          "name": "stdout",
          "text": [
            "|K|ubernetes| and| Docker| are| both| popular| tools| used| in| the| world| of| container|ization|,| but| they| serve| different| purposes| and| have| different| functionalities|.\n",
            "\n",
            "|D|ocker| is| a| platform| that| allows| developers| to| package|,| distribute|,| and| run| applications| within| containers|.| Containers| are| lightweight|,| portable|,| and| isolated| environments| that| contain| everything| needed| to| run| an| application|,| including| the| code|,| runtime|,| libraries|,| and| dependencies|.| Docker| makes| it| easy| to| create|,| deploy|,| and| manage| containers| on| a| single| host|.\n",
            "\n",
            "|K|ubernetes|,| on| the| other| hand|,| is| a| container| orchest|ration| platform| that| manages| and| autom|ates| the| deployment|,| scaling|,| and| operation| of| container|ized| applications| across| a| cluster| of| hosts|.| Kubernetes| allows| you| to| deploy| and| manage| multiple| containers| across| multiple| hosts|,| making| it| easier| to| scale| and| manage| applications| in| a| production| environment|.\n",
            "\n",
            "|In| summary|,| Docker| is| used| to| create| and| manage| individual| containers|,| while| Kubernetes| is| used| to| manage| and| orchest|rate| clusters| of| containers|.| Kubernetes| builds| on| top| of| Docker|,| and| they| are| often| used| together| in| modern| container|ized| environments|.||"
          ]
        }
      ]
    },
    {
      "cell_type": "code",
      "source": [
        "chunks[2]"
      ],
      "metadata": {
        "colab": {
          "base_uri": "https://localhost:8080/"
        },
        "id": "JmLe_-7DPSbM",
        "outputId": "3c238426-0301-40c5-969c-c66787aa77a2"
      },
      "execution_count": null,
      "outputs": [
        {
          "output_type": "execute_result",
          "data": {
            "text/plain": [
              "AIMessageChunk(content='ubernetes')"
            ]
          },
          "metadata": {},
          "execution_count": 27
        }
      ]
    },
    {
      "cell_type": "code",
      "source": [
        "for chunk in model.stream(\"Write me a song about kubernetes\"):\n",
        "    print(chunk.content, end=\"\", flush=True)"
      ],
      "metadata": {
        "colab": {
          "base_uri": "https://localhost:8080/"
        },
        "id": "zGuEc4u8PYop",
        "outputId": "2979f602-ea1e-41b6-8d41-b3a936067f5c"
      },
      "execution_count": null,
      "outputs": [
        {
          "output_type": "stream",
          "name": "stdout",
          "text": [
            "(Verse 1)\n",
            "In the world of technology, there's a system so grand\n",
            "It's called Kubernetes, it's the heart of every command\n",
            "With containers and pods, it orchestrates it all\n",
            "Scaling up and down, never missing a call\n",
            "\n",
            "(Chorus)\n",
            "Kubernetes, oh Kubernetes, you're the king of the cloud\n",
            "Managing our workloads, making us proud\n",
            "With your power and control, we can conquer any feat\n",
            "Kubernetes, oh Kubernetes, you make our systems complete\n",
            "\n",
            "(Verse 2)\n",
            "From deployment to scaling, you handle it with ease\n",
            "No more manual tasks, you bring us to our knees\n",
            "With your auto-healing and load balancing too\n",
            "Our applications run smoothly, thanks to you\n",
            "\n",
            "(Chorus)\n",
            "Kubernetes, oh Kubernetes, you're the king of the cloud\n",
            "Managing our workloads, making us proud\n",
            "With your power and control, we can conquer any feat\n",
            "Kubernetes, oh Kubernetes, you make our systems complete\n",
            "\n",
            "(Bridge)\n",
            "You're the orchestrator, the master of the dance\n",
            "Keeping everything in line, giving us a chance\n",
            "To focus on our code, and let you do the rest\n",
            "Kubernetes, oh Kubernetes, you're simply the best\n",
            "\n",
            "(Chorus)\n",
            "Kubernetes, oh Kubernetes, you're the king of the cloud\n",
            "Managing our workloads, making us proud\n",
            "With your power and control, we can conquer any feat\n",
            "Kubernetes, oh Kubernetes, you make our systems complete\n",
            "\n",
            "(Outro)\n",
            "So here's a toast to Kubernetes, the backbone of our tech\n",
            "With you by our side, we'll never be a wreck\n",
            "Thank you for all you do, we'll sing your praises high\n",
            "Kubernetes, oh Kubernetes, you reach for the sky."
          ]
        }
      ]
    }
  ]
}