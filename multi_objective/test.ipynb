{
 "cells": [
  {
   "cell_type": "code",
   "execution_count": 1,
   "metadata": {},
   "outputs": [],
   "source": [
    "import pandas as pd\n",
    "import numpy as np\n",
    "import os\n",
    "from utils.clustering import Clustering\n",
    "from utils.fuzzyselection import fuzzy_selection\n",
    "from utils.paretoset import is_pareto_efficient\n",
    "from typing import List"
   ]
  },
  {
   "cell_type": "code",
   "execution_count": 7,
   "metadata": {},
   "outputs": [],
   "source": [
    "def multi_objective_functin(k_list:List)->List:\n",
    "    c1=1\n",
    "    c2=7\n",
    "    c4=7\n",
    "    \"\"\"\n",
    "    Evaluates the objective of each individuals\n",
    "\n",
    "    Arguments:\n",
    "    k_list: list of kd, kp, ki values\n",
    "\n",
    "    Returns:\n",
    "    objective: the objective value of the specific individuals\n",
    "    eig_max: the eigen value of the specific individuals\n",
    "    \"\"\"\n",
    "    Eq_coeff = [c1, c2, (c4*k_list[0] + 11.6), (c4*k_list[1]), (c4*k_list[2])]\n",
    "    roots = np.roots(Eq_coeff)\n",
    "    obj_1 = np.exp(np.max(np.real(roots)))\n",
    "    obj_2 = np.max(np.abs(np.imag(roots)))\n",
    "    return obj_1, obj_2"
   ]
  }
 ],
 "metadata": {
  "kernelspec": {
   "display_name": "ieso_env_v9",
   "language": "python",
   "name": "ieso_env_v9"
  },
  "language_info": {
   "codemirror_mode": {
    "name": "ipython",
    "version": 3
   },
   "file_extension": ".py",
   "mimetype": "text/x-python",
   "name": "python",
   "nbconvert_exporter": "python",
   "pygments_lexer": "ipython3",
   "version": "3.9.13 | packaged by conda-forge | (main, May 27 2022, 16:50:36) [MSC v.1929 64 bit (AMD64)]"
  },
  "orig_nbformat": 4
 },
 "nbformat": 4,
 "nbformat_minor": 2
}
